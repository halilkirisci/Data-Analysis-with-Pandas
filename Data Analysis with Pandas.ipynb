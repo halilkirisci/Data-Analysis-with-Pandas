{
 "cells": [
  {
   "cell_type": "markdown",
   "metadata": {},
   "source": [
    "# Data Analysis with Pandas - Problem Set\n",
    "\n",
    "\n",
    "#### Reading in Data\n",
    "\n",
    "1. Read in the comma-separated file \"client_list.csv\". Assign as variable `df1`.\n",
    "2. Read in the delimted file \"client_list.table\". Assign as variable as `df2`.\n",
    "3. Read in the fixed-width file \"client_list.txt\". Assign as variable `df3`\n",
    "4. Read in the comma-separated file \"client_list.csv\", skip the first 3 rows, and ignore the header. Do not assign to variable (just return a view).\n",
    "5. Read in the comma-separated file \"client_list.csv\". Set the column headers in all caps. Assign as variable `df`.\n",
    "6. Read in the comma-separated file \"client_list_practice.csv\" and only extract the columns [\"FIRST_NAME\",\"AGE\",\"EYE_COLOR\"]. Do not assign to a variable.\n",
    "\n",
    "\n",
    "\n",
    "\n",
    "\n"
   ]
  },
  {
   "cell_type": "markdown",
   "metadata": {},
   "source": [
    "#### Slicing a Data Set\n",
    "\n",
    "7. Slice rows 5 through 11 of `df`. Can you provide two ways of doing this?\n",
    "8. Return only the columns ['LAST_NAME','AGE','HAIR_COLOR'] for `df`. Can you provide two ways of doing this?\n",
    "9. Combine problems 1 and 2: return rows 5 though 11 and columns  ['LAST_NAME','AGE','HAIR_COLOR'] for `df`. Can you provide two ways of doing this?\n",
    "\n",
    "\n"
   ]
  },
  {
   "cell_type": "markdown",
   "metadata": {},
   "source": [
    "#### Simple Queries\n",
    "\n",
    "10. Find the subset of `df` where the client's last name is \"Smith\".\n",
    "11. Find the subset of `df` where the client's hair color is not black.\n",
    "12. Find the subset of `df` where the client's hair color is red and reset the values to \"ginger\".\n",
    "\n",
    "\n"
   ]
  },
  {
   "cell_type": "markdown",
   "metadata": {},
   "source": [
    "#### Complex Queries\n",
    "\n",
    "13. Find the subset of `df` where the clients are females older than 30 years.\n",
    "14. Repeat problem 1, but return only the hair color and eye color.\n",
    "15. Find the unique combination of hair and eye color for women older than 25 years.\n",
    "\n"
   ]
  },
  {
   "cell_type": "markdown",
   "metadata": {},
   "source": [
    "\n",
    "#### Additional Dataframe Operations\n",
    "\n",
    "16. Perform a `merge` using \"client_list.csv\" and \"customer_id_list.csv\". Assign the resulting dataframe as `clients`.\n",
    "17. Perform a `merge` using `clients` and \"purchase_log.csv\" and limit the subset to only clients who made purchases. Assign the resulting dataframe as `detailed_sales`.\n",
    "18. Use `groupby` to find the client who spent the most money on purchases. Determine how much he/she spent. HINT: save the intermediate dataframe from using `groupby` as `spenders` before applying slicing to determine the client who spent the most money on purchases.\n",
    "19. (BONUS) Modify the answer to problem 3 slightly to determine exactly what items where purchased by the top spending client."
   ]
  },
  {
   "cell_type": "markdown",
   "metadata": {
    "collapsed": true,
    "jupyter": {
     "outputs_hidden": true
    }
   },
   "source": [
    "#### Writing Files\n",
    "\n",
    "20. Save `detailed_sales` as a csv file named \"df_out.csv\" with no indices.\n",
    "21. Save `detailed_sales` to a pickle file named \"df_out.p\""
   ]
  },
  {
   "cell_type": "code",
   "execution_count": 4,
   "metadata": {},
   "outputs": [],
   "source": [
    "import pandas as pd"
   ]
  },
  {
   "cell_type": "markdown",
   "metadata": {
    "collapsed": true,
    "jupyter": {
     "outputs_hidden": true
    }
   },
   "source": [
    "# Data Analysis with Pandas - Problem Set\n",
    "\n",
    "\n",
    "#### Reading in Data\n",
    "\n",
    "1. Read in the comma-separated file \"client_list.csv\". Assign as variable `df1`."
   ]
  },
  {
   "cell_type": "code",
   "execution_count": 7,
   "metadata": {},
   "outputs": [
    {
     "data": {
      "text/html": [
       "<div>\n",
       "<style scoped>\n",
       "    .dataframe tbody tr th:only-of-type {\n",
       "        vertical-align: middle;\n",
       "    }\n",
       "\n",
       "    .dataframe tbody tr th {\n",
       "        vertical-align: top;\n",
       "    }\n",
       "\n",
       "    .dataframe thead th {\n",
       "        text-align: right;\n",
       "    }\n",
       "</style>\n",
       "<table border=\"1\" class=\"dataframe\">\n",
       "  <thead>\n",
       "    <tr style=\"text-align: right;\">\n",
       "      <th></th>\n",
       "      <th>first_name</th>\n",
       "      <th>LAST_NAME</th>\n",
       "      <th>gender</th>\n",
       "      <th>Age</th>\n",
       "      <th>Hair_COLOR</th>\n",
       "      <th>eye_Color</th>\n",
       "    </tr>\n",
       "  </thead>\n",
       "  <tbody>\n",
       "    <tr>\n",
       "      <th>0</th>\n",
       "      <td>Jennifer</td>\n",
       "      <td>Jones</td>\n",
       "      <td>F</td>\n",
       "      <td>27</td>\n",
       "      <td>black</td>\n",
       "      <td>brown</td>\n",
       "    </tr>\n",
       "    <tr>\n",
       "      <th>1</th>\n",
       "      <td>Jaime</td>\n",
       "      <td>Roberts</td>\n",
       "      <td>M</td>\n",
       "      <td>32</td>\n",
       "      <td>brown</td>\n",
       "      <td>hazel</td>\n",
       "    </tr>\n",
       "    <tr>\n",
       "      <th>2</th>\n",
       "      <td>Michael</td>\n",
       "      <td>Johnson</td>\n",
       "      <td>M</td>\n",
       "      <td>55</td>\n",
       "      <td>red</td>\n",
       "      <td>green</td>\n",
       "    </tr>\n",
       "    <tr>\n",
       "      <th>3</th>\n",
       "      <td>Mary</td>\n",
       "      <td>Adams</td>\n",
       "      <td>F</td>\n",
       "      <td>42</td>\n",
       "      <td>blonde</td>\n",
       "      <td>blue</td>\n",
       "    </tr>\n",
       "    <tr>\n",
       "      <th>4</th>\n",
       "      <td>Robert</td>\n",
       "      <td>Phillips</td>\n",
       "      <td>M</td>\n",
       "      <td>37</td>\n",
       "      <td>blonde</td>\n",
       "      <td>brown</td>\n",
       "    </tr>\n",
       "  </tbody>\n",
       "</table>\n",
       "</div>"
      ],
      "text/plain": [
       "  first_name LAST_NAME gender  Age Hair_COLOR eye_Color\n",
       "0   Jennifer     Jones      F   27      black     brown\n",
       "1      Jaime   Roberts      M   32      brown     hazel\n",
       "2    Michael   Johnson      M   55        red     green\n",
       "3       Mary     Adams      F   42     blonde      blue\n",
       "4     Robert  Phillips      M   37     blonde     brown"
      ]
     },
     "execution_count": 7,
     "metadata": {},
     "output_type": "execute_result"
    }
   ],
   "source": [
    "df1 = pd.read_csv('client_list.csv')\n",
    "df1.head()"
   ]
  },
  {
   "cell_type": "markdown",
   "metadata": {},
   "source": [
    "2. Read in the delimted file \"client_list.table\". Assign as variable as `df2`."
   ]
  },
  {
   "cell_type": "code",
   "execution_count": 10,
   "metadata": {},
   "outputs": [
    {
     "data": {
      "text/html": [
       "<div>\n",
       "<style scoped>\n",
       "    .dataframe tbody tr th:only-of-type {\n",
       "        vertical-align: middle;\n",
       "    }\n",
       "\n",
       "    .dataframe tbody tr th {\n",
       "        vertical-align: top;\n",
       "    }\n",
       "\n",
       "    .dataframe thead th {\n",
       "        text-align: right;\n",
       "    }\n",
       "</style>\n",
       "<table border=\"1\" class=\"dataframe\">\n",
       "  <thead>\n",
       "    <tr style=\"text-align: right;\">\n",
       "      <th></th>\n",
       "      <th>first_name;LAST_NAME;gender;Age;Hair_COLOR;eye_Color</th>\n",
       "    </tr>\n",
       "  </thead>\n",
       "  <tbody>\n",
       "    <tr>\n",
       "      <th>0</th>\n",
       "      <td>Jennifer;Jones;F;27;black;brown</td>\n",
       "    </tr>\n",
       "    <tr>\n",
       "      <th>1</th>\n",
       "      <td>Jaime;Roberts;M;32;brown;hazel</td>\n",
       "    </tr>\n",
       "    <tr>\n",
       "      <th>2</th>\n",
       "      <td>Michael;Johnson;M;55;red;green</td>\n",
       "    </tr>\n",
       "    <tr>\n",
       "      <th>3</th>\n",
       "      <td>Mary;Adams;F;42;blonde;blue</td>\n",
       "    </tr>\n",
       "    <tr>\n",
       "      <th>4</th>\n",
       "      <td>Robert;Phillips;M;37;blonde;brown</td>\n",
       "    </tr>\n",
       "  </tbody>\n",
       "</table>\n",
       "</div>"
      ],
      "text/plain": [
       "  first_name;LAST_NAME;gender;Age;Hair_COLOR;eye_Color\n",
       "0                    Jennifer;Jones;F;27;black;brown  \n",
       "1                     Jaime;Roberts;M;32;brown;hazel  \n",
       "2                     Michael;Johnson;M;55;red;green  \n",
       "3                        Mary;Adams;F;42;blonde;blue  \n",
       "4                  Robert;Phillips;M;37;blonde;brown  "
      ]
     },
     "execution_count": 10,
     "metadata": {},
     "output_type": "execute_result"
    }
   ],
   "source": [
    "df2 = pd.read_table('client_list.table')\n",
    "df2.head()"
   ]
  },
  {
   "cell_type": "markdown",
   "metadata": {},
   "source": [
    "3. Read in the fixed-width file \"client_list.txt\". Assign as variable `df3`"
   ]
  },
  {
   "cell_type": "code",
   "execution_count": 13,
   "metadata": {},
   "outputs": [
    {
     "data": {
      "text/html": [
       "<div>\n",
       "<style scoped>\n",
       "    .dataframe tbody tr th:only-of-type {\n",
       "        vertical-align: middle;\n",
       "    }\n",
       "\n",
       "    .dataframe tbody tr th {\n",
       "        vertical-align: top;\n",
       "    }\n",
       "\n",
       "    .dataframe thead th {\n",
       "        text-align: right;\n",
       "    }\n",
       "</style>\n",
       "<table border=\"1\" class=\"dataframe\">\n",
       "  <thead>\n",
       "    <tr style=\"text-align: right;\">\n",
       "      <th></th>\n",
       "      <th>first_name</th>\n",
       "      <th>LAST_NAME</th>\n",
       "      <th>gender</th>\n",
       "      <th>Age</th>\n",
       "      <th>Hair_COLOR</th>\n",
       "      <th>eye_Color</th>\n",
       "    </tr>\n",
       "  </thead>\n",
       "  <tbody>\n",
       "    <tr>\n",
       "      <th>0</th>\n",
       "      <td>Jennifer</td>\n",
       "      <td>Jones</td>\n",
       "      <td>F</td>\n",
       "      <td>27</td>\n",
       "      <td>black</td>\n",
       "      <td>brown</td>\n",
       "    </tr>\n",
       "    <tr>\n",
       "      <th>1</th>\n",
       "      <td>Jaime</td>\n",
       "      <td>Roberts</td>\n",
       "      <td>M</td>\n",
       "      <td>32</td>\n",
       "      <td>brown</td>\n",
       "      <td>hazel</td>\n",
       "    </tr>\n",
       "    <tr>\n",
       "      <th>2</th>\n",
       "      <td>Michael</td>\n",
       "      <td>Johnson</td>\n",
       "      <td>M</td>\n",
       "      <td>55</td>\n",
       "      <td>red</td>\n",
       "      <td>green</td>\n",
       "    </tr>\n",
       "    <tr>\n",
       "      <th>3</th>\n",
       "      <td>Mary</td>\n",
       "      <td>Adams</td>\n",
       "      <td>F</td>\n",
       "      <td>42</td>\n",
       "      <td>blonde</td>\n",
       "      <td>blue</td>\n",
       "    </tr>\n",
       "    <tr>\n",
       "      <th>4</th>\n",
       "      <td>Robert</td>\n",
       "      <td>Phillips</td>\n",
       "      <td>M</td>\n",
       "      <td>37</td>\n",
       "      <td>blonde</td>\n",
       "      <td>brown</td>\n",
       "    </tr>\n",
       "  </tbody>\n",
       "</table>\n",
       "</div>"
      ],
      "text/plain": [
       "  first_name LAST_NAME gender  Age Hair_COLOR eye_Color\n",
       "0   Jennifer     Jones      F   27      black     brown\n",
       "1      Jaime   Roberts      M   32      brown     hazel\n",
       "2    Michael   Johnson      M   55        red     green\n",
       "3       Mary     Adams      F   42     blonde      blue\n",
       "4     Robert  Phillips      M   37     blonde     brown"
      ]
     },
     "execution_count": 13,
     "metadata": {},
     "output_type": "execute_result"
    }
   ],
   "source": [
    "df3 = pd.read_fwf('client_list.txt')\n",
    "df3.head()"
   ]
  },
  {
   "cell_type": "markdown",
   "metadata": {},
   "source": [
    "4. Read in the comma-separated file \"client_list.csv\", skip the first 3 rows, and ignore the header. Do not assign to variable (just return a view)."
   ]
  },
  {
   "cell_type": "code",
   "execution_count": 16,
   "metadata": {},
   "outputs": [
    {
     "name": "stdout",
     "output_type": "stream",
     "text": [
      "           0         1  2   3       4      5\n",
      "0    Michael   Johnson  M  55     red  green\n",
      "1       Mary     Adams  F  42  blonde   blue\n",
      "2     Robert  Phillips  M  37  blonde  brown\n",
      "3     Thomas     Moore  M  60   brown   blue\n",
      "4    Natalie    Potter  F  21   brown  green\n",
      "5     Brenda     Jones  F  18  blonde  brown\n",
      "6    Michael     Smith  M  58   brown  brown\n",
      "7   Jennifer     Smith  F  36   black  brown\n",
      "8    Michael     Smith  M  37   black  hazel\n",
      "9    Jessica    Rabbit  F  19   black   blue\n",
      "10     Molly    Bryant  F  21   brown   blue\n",
      "11     Jaime  Anderson  F  46   brown  green\n"
     ]
    }
   ],
   "source": [
    "print(pd.read_csv('client_list.csv', skiprows=3, header=None))"
   ]
  },
  {
   "cell_type": "markdown",
   "metadata": {},
   "source": [
    "5. Read in the comma-separated file \"client_list.csv\". Set the column headers in all caps. Assign as variable `df`."
   ]
  },
  {
   "cell_type": "code",
   "execution_count": 23,
   "metadata": {},
   "outputs": [
    {
     "data": {
      "text/html": [
       "<div>\n",
       "<style scoped>\n",
       "    .dataframe tbody tr th:only-of-type {\n",
       "        vertical-align: middle;\n",
       "    }\n",
       "\n",
       "    .dataframe tbody tr th {\n",
       "        vertical-align: top;\n",
       "    }\n",
       "\n",
       "    .dataframe thead th {\n",
       "        text-align: right;\n",
       "    }\n",
       "</style>\n",
       "<table border=\"1\" class=\"dataframe\">\n",
       "  <thead>\n",
       "    <tr style=\"text-align: right;\">\n",
       "      <th></th>\n",
       "      <th>FIRST_NAME</th>\n",
       "      <th>LAST_NAME</th>\n",
       "      <th>GENDER</th>\n",
       "      <th>AGE</th>\n",
       "      <th>HAIR_COLOR</th>\n",
       "      <th>EYE_COLOR</th>\n",
       "    </tr>\n",
       "  </thead>\n",
       "  <tbody>\n",
       "    <tr>\n",
       "      <th>0</th>\n",
       "      <td>Jennifer</td>\n",
       "      <td>Jones</td>\n",
       "      <td>F</td>\n",
       "      <td>27</td>\n",
       "      <td>black</td>\n",
       "      <td>brown</td>\n",
       "    </tr>\n",
       "    <tr>\n",
       "      <th>1</th>\n",
       "      <td>Jaime</td>\n",
       "      <td>Roberts</td>\n",
       "      <td>M</td>\n",
       "      <td>32</td>\n",
       "      <td>brown</td>\n",
       "      <td>hazel</td>\n",
       "    </tr>\n",
       "    <tr>\n",
       "      <th>2</th>\n",
       "      <td>Michael</td>\n",
       "      <td>Johnson</td>\n",
       "      <td>M</td>\n",
       "      <td>55</td>\n",
       "      <td>red</td>\n",
       "      <td>green</td>\n",
       "    </tr>\n",
       "    <tr>\n",
       "      <th>3</th>\n",
       "      <td>Mary</td>\n",
       "      <td>Adams</td>\n",
       "      <td>F</td>\n",
       "      <td>42</td>\n",
       "      <td>blonde</td>\n",
       "      <td>blue</td>\n",
       "    </tr>\n",
       "    <tr>\n",
       "      <th>4</th>\n",
       "      <td>Robert</td>\n",
       "      <td>Phillips</td>\n",
       "      <td>M</td>\n",
       "      <td>37</td>\n",
       "      <td>blonde</td>\n",
       "      <td>brown</td>\n",
       "    </tr>\n",
       "  </tbody>\n",
       "</table>\n",
       "</div>"
      ],
      "text/plain": [
       "  FIRST_NAME LAST_NAME GENDER  AGE HAIR_COLOR EYE_COLOR\n",
       "0   Jennifer     Jones      F   27      black     brown\n",
       "1      Jaime   Roberts      M   32      brown     hazel\n",
       "2    Michael   Johnson      M   55        red     green\n",
       "3       Mary     Adams      F   42     blonde      blue\n",
       "4     Robert  Phillips      M   37     blonde     brown"
      ]
     },
     "execution_count": 23,
     "metadata": {},
     "output_type": "execute_result"
    }
   ],
   "source": [
    "#header_names=['FIRST_NAME', 'LAST_NAME', 'GENDER', 'AGE', 'HAIR COLOR', 'EYE COLOR']\n",
    "df = pd.read_csv('client_list.csv')\n",
    "df.columns = df.columns.str.upper()\n",
    "df.head()"
   ]
  },
  {
   "cell_type": "markdown",
   "metadata": {},
   "source": [
    "6. Read in the comma-separated file \"client_list_practice.csv\" and only extract the columns [\"FIRST_NAME\",\"AGE\",\"EYE_COLOR\"]. Do not assign to a variable."
   ]
  },
  {
   "cell_type": "code",
   "execution_count": 26,
   "metadata": {},
   "outputs": [
    {
     "name": "stdout",
     "output_type": "stream",
     "text": [
      "   FIRST_NAME   AGE EYE_COLOR\n",
      "0    Jennifer  27.0     brown\n",
      "1       Jaime  32.0     hazel\n",
      "2     Michael  55.0     green\n",
      "3        Mary  42.0       NaN\n",
      "4         NaN  37.0     brown\n",
      "5      Thomas  60.0      blue\n",
      "6     Natalie   NaN     green\n",
      "7      Brenda   NaN     brown\n",
      "8     Michael  58.0     brown\n",
      "9    Jennifer  36.0     brown\n",
      "10    Michael  37.0     hazel\n",
      "11    Jessica  19.0      blue\n",
      "12      Molly  21.0      blue\n",
      "13      Jaime  46.0     green\n"
     ]
    }
   ],
   "source": [
    "print(pd.read_csv('client_list_practice.csv', usecols=['FIRST_NAME', 'AGE', 'EYE_COLOR']))"
   ]
  },
  {
   "cell_type": "markdown",
   "metadata": {},
   "source": [
    "#### Slicing a Data Set\n",
    "\n",
    "7. Slice rows 5 through 11 of `df`. Can you provide two ways of doing this?\n"
   ]
  },
  {
   "cell_type": "code",
   "execution_count": 29,
   "metadata": {},
   "outputs": [
    {
     "name": "stdout",
     "output_type": "stream",
     "text": [
      "   FIRST_NAME LAST_NAME GENDER  AGE HAIR_COLOR EYE_COLOR\n",
      "5      Thomas     Moore      M   60      brown      blue\n",
      "6     Natalie    Potter      F   21      brown     green\n",
      "7      Brenda     Jones      F   18     blonde     brown\n",
      "8     Michael     Smith      M   58      brown     brown\n",
      "9    Jennifer     Smith      F   36      black     brown\n",
      "10    Michael     Smith      M   37      black     hazel\n",
      "11    Jessica    Rabbit      F   19      black      blue\n",
      "   FIRST_NAME LAST_NAME GENDER  AGE HAIR_COLOR EYE_COLOR\n",
      "5      Thomas     Moore      M   60      brown      blue\n",
      "6     Natalie    Potter      F   21      brown     green\n",
      "7      Brenda     Jones      F   18     blonde     brown\n",
      "8     Michael     Smith      M   58      brown     brown\n",
      "9    Jennifer     Smith      F   36      black     brown\n",
      "10    Michael     Smith      M   37      black     hazel\n",
      "11    Jessica    Rabbit      F   19      black      blue\n"
     ]
    }
   ],
   "source": [
    "print(df.iloc[5:12])\n",
    "print(df.loc[5:11])"
   ]
  },
  {
   "cell_type": "markdown",
   "metadata": {},
   "source": [
    "8. Return only the columns ['LAST_NAME','AGE','HAIR_COLOR'] for `df`. Can you provide two ways of doing this?"
   ]
  },
  {
   "cell_type": "code",
   "execution_count": 31,
   "metadata": {},
   "outputs": [
    {
     "data": {
      "text/html": [
       "<div>\n",
       "<style scoped>\n",
       "    .dataframe tbody tr th:only-of-type {\n",
       "        vertical-align: middle;\n",
       "    }\n",
       "\n",
       "    .dataframe tbody tr th {\n",
       "        vertical-align: top;\n",
       "    }\n",
       "\n",
       "    .dataframe thead th {\n",
       "        text-align: right;\n",
       "    }\n",
       "</style>\n",
       "<table border=\"1\" class=\"dataframe\">\n",
       "  <thead>\n",
       "    <tr style=\"text-align: right;\">\n",
       "      <th></th>\n",
       "      <th>LAST_NAME</th>\n",
       "      <th>AGE</th>\n",
       "      <th>HAIR_COLOR</th>\n",
       "    </tr>\n",
       "  </thead>\n",
       "  <tbody>\n",
       "    <tr>\n",
       "      <th>0</th>\n",
       "      <td>Jones</td>\n",
       "      <td>27</td>\n",
       "      <td>black</td>\n",
       "    </tr>\n",
       "    <tr>\n",
       "      <th>1</th>\n",
       "      <td>Roberts</td>\n",
       "      <td>32</td>\n",
       "      <td>brown</td>\n",
       "    </tr>\n",
       "    <tr>\n",
       "      <th>2</th>\n",
       "      <td>Johnson</td>\n",
       "      <td>55</td>\n",
       "      <td>red</td>\n",
       "    </tr>\n",
       "    <tr>\n",
       "      <th>3</th>\n",
       "      <td>Adams</td>\n",
       "      <td>42</td>\n",
       "      <td>blonde</td>\n",
       "    </tr>\n",
       "    <tr>\n",
       "      <th>4</th>\n",
       "      <td>Phillips</td>\n",
       "      <td>37</td>\n",
       "      <td>blonde</td>\n",
       "    </tr>\n",
       "  </tbody>\n",
       "</table>\n",
       "</div>"
      ],
      "text/plain": [
       "  LAST_NAME  AGE HAIR_COLOR\n",
       "0     Jones   27      black\n",
       "1   Roberts   32      brown\n",
       "2   Johnson   55        red\n",
       "3     Adams   42     blonde\n",
       "4  Phillips   37     blonde"
      ]
     },
     "execution_count": 31,
     "metadata": {},
     "output_type": "execute_result"
    }
   ],
   "source": [
    "df_changed1 = df[['LAST_NAME','AGE','HAIR_COLOR']] \n",
    "df_changed1.head()"
   ]
  },
  {
   "cell_type": "code",
   "execution_count": 33,
   "metadata": {},
   "outputs": [
    {
     "data": {
      "text/html": [
       "<div>\n",
       "<style scoped>\n",
       "    .dataframe tbody tr th:only-of-type {\n",
       "        vertical-align: middle;\n",
       "    }\n",
       "\n",
       "    .dataframe tbody tr th {\n",
       "        vertical-align: top;\n",
       "    }\n",
       "\n",
       "    .dataframe thead th {\n",
       "        text-align: right;\n",
       "    }\n",
       "</style>\n",
       "<table border=\"1\" class=\"dataframe\">\n",
       "  <thead>\n",
       "    <tr style=\"text-align: right;\">\n",
       "      <th></th>\n",
       "      <th>LAST_NAME</th>\n",
       "      <th>AGE</th>\n",
       "      <th>HAIR_COLOR</th>\n",
       "    </tr>\n",
       "  </thead>\n",
       "  <tbody>\n",
       "    <tr>\n",
       "      <th>0</th>\n",
       "      <td>Jones</td>\n",
       "      <td>27</td>\n",
       "      <td>black</td>\n",
       "    </tr>\n",
       "    <tr>\n",
       "      <th>1</th>\n",
       "      <td>Roberts</td>\n",
       "      <td>32</td>\n",
       "      <td>brown</td>\n",
       "    </tr>\n",
       "    <tr>\n",
       "      <th>2</th>\n",
       "      <td>Johnson</td>\n",
       "      <td>55</td>\n",
       "      <td>red</td>\n",
       "    </tr>\n",
       "    <tr>\n",
       "      <th>3</th>\n",
       "      <td>Adams</td>\n",
       "      <td>42</td>\n",
       "      <td>blonde</td>\n",
       "    </tr>\n",
       "    <tr>\n",
       "      <th>4</th>\n",
       "      <td>Phillips</td>\n",
       "      <td>37</td>\n",
       "      <td>blonde</td>\n",
       "    </tr>\n",
       "  </tbody>\n",
       "</table>\n",
       "</div>"
      ],
      "text/plain": [
       "  LAST_NAME  AGE HAIR_COLOR\n",
       "0     Jones   27      black\n",
       "1   Roberts   32      brown\n",
       "2   Johnson   55        red\n",
       "3     Adams   42     blonde\n",
       "4  Phillips   37     blonde"
      ]
     },
     "execution_count": 33,
     "metadata": {},
     "output_type": "execute_result"
    }
   ],
   "source": [
    "df_changed2 = df.loc[:,['LAST_NAME','AGE','HAIR_COLOR']] \n",
    "df_changed2.head()"
   ]
  },
  {
   "cell_type": "markdown",
   "metadata": {},
   "source": [
    "9. Combine problems 1 and 2: return rows 5 though 11 and columns  ['LAST_NAME','AGE','HAIR_COLOR'] for `df`. Can you provide two ways of doing this?\n"
   ]
  },
  {
   "cell_type": "code",
   "execution_count": 29,
   "metadata": {},
   "outputs": [],
   "source": [
    "combined_df1 = pd.concat([df1, df2], axis=1)\n",
    "combined_df2 = pd.concat([df1, df2], ignore_index=1)"
   ]
  },
  {
   "cell_type": "markdown",
   "metadata": {},
   "source": [
    "#### Simple Queries\n",
    "\n",
    "10. Find the subset of `df` where the client's last name is \"Smith\".\n",
    "11. Find the subset of `df` where the client's hair color is not black.\n",
    "12. Find the subset of `df` where the client's hair color is red and reset the values to \"ginger\".\n"
   ]
  },
  {
   "cell_type": "code",
   "execution_count": 35,
   "metadata": {},
   "outputs": [
    {
     "name": "stdout",
     "output_type": "stream",
     "text": [
      "   FIRST_NAME LAST_NAME GENDER  AGE HAIR_COLOR EYE_COLOR\n",
      "8     Michael     Smith      M   58      brown     brown\n",
      "9    Jennifer     Smith      F   36      black     brown\n",
      "10    Michael     Smith      M   37      black     hazel\n",
      "   FIRST_NAME LAST_NAME GENDER  AGE HAIR_COLOR EYE_COLOR\n",
      "1       Jaime   Roberts      M   32      brown     hazel\n",
      "2     Michael   Johnson      M   55        red     green\n",
      "3        Mary     Adams      F   42     blonde      blue\n",
      "4      Robert  Phillips      M   37     blonde     brown\n",
      "5      Thomas     Moore      M   60      brown      blue\n",
      "6     Natalie    Potter      F   21      brown     green\n",
      "7      Brenda     Jones      F   18     blonde     brown\n",
      "8     Michael     Smith      M   58      brown     brown\n",
      "12      Molly    Bryant      F   21      brown      blue\n",
      "13      Jaime  Anderson      F   46      brown     green\n",
      "ginger\n"
     ]
    }
   ],
   "source": [
    "print(df[df['LAST_NAME'] == 'Smith'])\n",
    "print(df[df['HAIR_COLOR'] != 'black'])\n",
    "dff = df.loc[df['HAIR_COLOR'] == 'red', 'HAIR_COLOR'] = 'ginger'\n",
    "print(dff)"
   ]
  },
  {
   "cell_type": "markdown",
   "metadata": {},
   "source": [
    "#### Complex Queries\n",
    "\n",
    "13. Find the subset of `df` where the clients are females older than 30 years.\n",
    "14. Repeat problem 1, but return only the hair color and eye color.\n",
    "15. Find the unique combination of hair and eye color for women older than 25 years.\n"
   ]
  },
  {
   "cell_type": "code",
   "execution_count": 37,
   "metadata": {},
   "outputs": [
    {
     "data": {
      "text/html": [
       "<div>\n",
       "<style scoped>\n",
       "    .dataframe tbody tr th:only-of-type {\n",
       "        vertical-align: middle;\n",
       "    }\n",
       "\n",
       "    .dataframe tbody tr th {\n",
       "        vertical-align: top;\n",
       "    }\n",
       "\n",
       "    .dataframe thead th {\n",
       "        text-align: right;\n",
       "    }\n",
       "</style>\n",
       "<table border=\"1\" class=\"dataframe\">\n",
       "  <thead>\n",
       "    <tr style=\"text-align: right;\">\n",
       "      <th></th>\n",
       "      <th>FIRST_NAME</th>\n",
       "      <th>LAST_NAME</th>\n",
       "      <th>GENDER</th>\n",
       "      <th>AGE</th>\n",
       "      <th>HAIR_COLOR</th>\n",
       "      <th>EYE_COLOR</th>\n",
       "    </tr>\n",
       "  </thead>\n",
       "  <tbody>\n",
       "    <tr>\n",
       "      <th>3</th>\n",
       "      <td>Mary</td>\n",
       "      <td>Adams</td>\n",
       "      <td>F</td>\n",
       "      <td>42</td>\n",
       "      <td>blonde</td>\n",
       "      <td>blue</td>\n",
       "    </tr>\n",
       "    <tr>\n",
       "      <th>9</th>\n",
       "      <td>Jennifer</td>\n",
       "      <td>Smith</td>\n",
       "      <td>F</td>\n",
       "      <td>36</td>\n",
       "      <td>black</td>\n",
       "      <td>brown</td>\n",
       "    </tr>\n",
       "    <tr>\n",
       "      <th>13</th>\n",
       "      <td>Jaime</td>\n",
       "      <td>Anderson</td>\n",
       "      <td>F</td>\n",
       "      <td>46</td>\n",
       "      <td>brown</td>\n",
       "      <td>green</td>\n",
       "    </tr>\n",
       "  </tbody>\n",
       "</table>\n",
       "</div>"
      ],
      "text/plain": [
       "   FIRST_NAME LAST_NAME GENDER  AGE HAIR_COLOR EYE_COLOR\n",
       "3        Mary     Adams      F   42     blonde      blue\n",
       "9    Jennifer     Smith      F   36      black     brown\n",
       "13      Jaime  Anderson      F   46      brown     green"
      ]
     },
     "execution_count": 37,
     "metadata": {},
     "output_type": "execute_result"
    }
   ],
   "source": [
    "df[(df[\"GENDER\"]== \"F\") & (pd.to_numeric(df[\"AGE\"], errors='coerce') > 30)]"
   ]
  },
  {
   "cell_type": "code",
   "execution_count": 41,
   "metadata": {},
   "outputs": [
    {
     "data": {
      "text/html": [
       "<div>\n",
       "<style scoped>\n",
       "    .dataframe tbody tr th:only-of-type {\n",
       "        vertical-align: middle;\n",
       "    }\n",
       "\n",
       "    .dataframe tbody tr th {\n",
       "        vertical-align: top;\n",
       "    }\n",
       "\n",
       "    .dataframe thead th {\n",
       "        text-align: right;\n",
       "    }\n",
       "</style>\n",
       "<table border=\"1\" class=\"dataframe\">\n",
       "  <thead>\n",
       "    <tr style=\"text-align: right;\">\n",
       "      <th></th>\n",
       "      <th>HAIR_COLOR</th>\n",
       "      <th>EYE_COLOR</th>\n",
       "    </tr>\n",
       "  </thead>\n",
       "  <tbody>\n",
       "    <tr>\n",
       "      <th>0</th>\n",
       "      <td>black</td>\n",
       "      <td>brown</td>\n",
       "    </tr>\n",
       "    <tr>\n",
       "      <th>1</th>\n",
       "      <td>brown</td>\n",
       "      <td>hazel</td>\n",
       "    </tr>\n",
       "    <tr>\n",
       "      <th>2</th>\n",
       "      <td>ginger</td>\n",
       "      <td>green</td>\n",
       "    </tr>\n",
       "    <tr>\n",
       "      <th>3</th>\n",
       "      <td>blonde</td>\n",
       "      <td>blue</td>\n",
       "    </tr>\n",
       "    <tr>\n",
       "      <th>4</th>\n",
       "      <td>blonde</td>\n",
       "      <td>brown</td>\n",
       "    </tr>\n",
       "    <tr>\n",
       "      <th>5</th>\n",
       "      <td>brown</td>\n",
       "      <td>blue</td>\n",
       "    </tr>\n",
       "    <tr>\n",
       "      <th>6</th>\n",
       "      <td>brown</td>\n",
       "      <td>green</td>\n",
       "    </tr>\n",
       "    <tr>\n",
       "      <th>7</th>\n",
       "      <td>blonde</td>\n",
       "      <td>brown</td>\n",
       "    </tr>\n",
       "    <tr>\n",
       "      <th>8</th>\n",
       "      <td>brown</td>\n",
       "      <td>brown</td>\n",
       "    </tr>\n",
       "    <tr>\n",
       "      <th>9</th>\n",
       "      <td>black</td>\n",
       "      <td>brown</td>\n",
       "    </tr>\n",
       "    <tr>\n",
       "      <th>10</th>\n",
       "      <td>black</td>\n",
       "      <td>hazel</td>\n",
       "    </tr>\n",
       "    <tr>\n",
       "      <th>11</th>\n",
       "      <td>black</td>\n",
       "      <td>blue</td>\n",
       "    </tr>\n",
       "    <tr>\n",
       "      <th>12</th>\n",
       "      <td>brown</td>\n",
       "      <td>blue</td>\n",
       "    </tr>\n",
       "    <tr>\n",
       "      <th>13</th>\n",
       "      <td>brown</td>\n",
       "      <td>green</td>\n",
       "    </tr>\n",
       "  </tbody>\n",
       "</table>\n",
       "</div>"
      ],
      "text/plain": [
       "   HAIR_COLOR EYE_COLOR\n",
       "0       black     brown\n",
       "1       brown     hazel\n",
       "2      ginger     green\n",
       "3      blonde      blue\n",
       "4      blonde     brown\n",
       "5       brown      blue\n",
       "6       brown     green\n",
       "7      blonde     brown\n",
       "8       brown     brown\n",
       "9       black     brown\n",
       "10      black     hazel\n",
       "11      black      blue\n",
       "12      brown      blue\n",
       "13      brown     green"
      ]
     },
     "execution_count": 41,
     "metadata": {},
     "output_type": "execute_result"
    }
   ],
   "source": [
    "df[[\"HAIR_COLOR\", \"EYE_COLOR\"]]"
   ]
  },
  {
   "cell_type": "code",
   "execution_count": 43,
   "metadata": {},
   "outputs": [
    {
     "data": {
      "text/html": [
       "<div>\n",
       "<style scoped>\n",
       "    .dataframe tbody tr th:only-of-type {\n",
       "        vertical-align: middle;\n",
       "    }\n",
       "\n",
       "    .dataframe tbody tr th {\n",
       "        vertical-align: top;\n",
       "    }\n",
       "\n",
       "    .dataframe thead th {\n",
       "        text-align: right;\n",
       "    }\n",
       "</style>\n",
       "<table border=\"1\" class=\"dataframe\">\n",
       "  <thead>\n",
       "    <tr style=\"text-align: right;\">\n",
       "      <th></th>\n",
       "      <th>HAIR_COLOR</th>\n",
       "      <th>EYE_COLOR</th>\n",
       "    </tr>\n",
       "  </thead>\n",
       "  <tbody>\n",
       "    <tr>\n",
       "      <th>0</th>\n",
       "      <td>black</td>\n",
       "      <td>brown</td>\n",
       "    </tr>\n",
       "    <tr>\n",
       "      <th>3</th>\n",
       "      <td>blonde</td>\n",
       "      <td>blue</td>\n",
       "    </tr>\n",
       "    <tr>\n",
       "      <th>13</th>\n",
       "      <td>brown</td>\n",
       "      <td>green</td>\n",
       "    </tr>\n",
       "  </tbody>\n",
       "</table>\n",
       "</div>"
      ],
      "text/plain": [
       "   HAIR_COLOR EYE_COLOR\n",
       "0       black     brown\n",
       "3      blonde      blue\n",
       "13      brown     green"
      ]
     },
     "execution_count": 43,
     "metadata": {},
     "output_type": "execute_result"
    }
   ],
   "source": [
    "dfo25 = df[(df[\"GENDER\"] == \"F\") & (pd.to_numeric(df[\"AGE\"], errors='coerce')  > 25)]\n",
    "dfu= dfo25[[\"HAIR_COLOR\", \"EYE_COLOR\"]].drop_duplicates()\n",
    "dfu.head()"
   ]
  },
  {
   "cell_type": "markdown",
   "metadata": {},
   "source": [
    "#### Additional Dataframe Operations\n",
    "\n",
    "16. Perform a `merge` using \"client_list.csv\" and \"customer_id_list.csv\". Assign the resulting dataframe as `clients`.\n",
    "17. Perform a `merge` using `clients` and \"purchase_log.csv\" and limit the subset to only clients who made purchases. Assign the resulting dataframe as `detailed_sales`.\n",
    "18. Use `groupby` to find the client who spent the most money on purchases. Determine how much he/she spent. HINT: save the intermediate dataframe from using `groupby` as `spenders` before applying slicing to determine the client who spent the most money on purchases.\n",
    "19. (BONUS) Modify the answer to problem 3 slightly to determine exactly what items where purchased by the top spending client."
   ]
  },
  {
   "cell_type": "code",
   "execution_count": 96,
   "metadata": {},
   "outputs": [
    {
     "name": "stdout",
     "output_type": "stream",
     "text": [
      "The client who spent the most money on purchases spent $123,684.00\n",
      "Items purchased by the top spending client:\n",
      "4      box of chocolates\n",
      "5    bottle of champagne\n",
      "6      box of chocolates\n",
      "7    bottle of champagne\n",
      "Name: ITEM_DESCRIPTION, dtype: object\n"
     ]
    }
   ],
   "source": [
    "df_customer = pd.read_csv(\"client_list.csv\")\n",
    "df_customer.columns = df_customer.columns.str.upper()\n",
    "df_customer_id = pd.read_csv(\"customer_id_list.csv\")\n",
    "df_purchase = pd.read_csv('purchase_log.csv')\n",
    "#print(\"df_customer.head()\")\n",
    "#print(df_customer.head())\n",
    "#print(\"df_customer_id.head()\")\n",
    "#print(df_customer_id.head())\n",
    "#print(\"df_purchase.head()\")\n",
    "#print(df_purchase.head())\n",
    "df_clients = pd.merge(df_customer, df_customer_id, on=[\"FIRST_NAME\",\"LAST_NAME\",\"GENDER\" ])\n",
    "df_sales = pd.merge(df_clients, df_purchase, on=\"CUSTOMER_ID\", how='inner')\n",
    "#print(\"df_clients\")\n",
    "#print(df_clients)\n",
    "#print(\"df_sales\")\n",
    "#print(df_sales)\n",
    "df_spenders = df_sales.groupby(\"CUSTOMER_ID\")[\"SKU\"].sum().reset_index()\n",
    "#print(\"df_spenders\")\n",
    "#print(df_spenders)\n",
    "df_top_spender = df_spenders.loc[df_spenders[\"SKU\"].idxmax()]\n",
    "print(f\"The client who spent the most money on purchases spent ${df_top_spender['SKU']:,.2f}\")\n",
    "df_tp_client = df_top_spender[\"CUSTOMER_ID\"]\n",
    "df_tc_purchases = df_sales[df_sales[\"CUSTOMER_ID\"] == df_tp_client]\n",
    "print(\"Items purchased by the top spending client:\")\n",
    "print(df_tc_purchases[\"ITEM_DESCRIPTION\"])"
   ]
  },
  {
   "cell_type": "markdown",
   "metadata": {},
   "source": [
    "#### Writing Files\n",
    "\n",
    "20. Save `detailed_sales` as a csv file named \"df_out.csv\" with no indices.\n",
    "21. Save `detailed_sales` to a pickle file named \"df_out.p\"\n"
   ]
  },
  {
   "cell_type": "code",
   "execution_count": 100,
   "metadata": {},
   "outputs": [],
   "source": [
    "df_sales.to_csv('df_out.csv', index=False)\n",
    "df_sales.to_pickle('df_out.p')"
   ]
  },
  {
   "cell_type": "code",
   "execution_count": null,
   "metadata": {},
   "outputs": [],
   "source": []
  }
 ],
 "metadata": {
  "anaconda-cloud": {},
  "kernelspec": {
   "display_name": "Python 3 (ipykernel)",
   "language": "python",
   "name": "python3"
  },
  "language_info": {
   "codemirror_mode": {
    "name": "ipython",
    "version": 3
   },
   "file_extension": ".py",
   "mimetype": "text/x-python",
   "name": "python",
   "nbconvert_exporter": "python",
   "pygments_lexer": "ipython3",
   "version": "3.11.7"
  }
 },
 "nbformat": 4,
 "nbformat_minor": 4
}
